{
  "cells": [
    {
      "cell_type": "code",
      "execution_count": 64,
      "metadata": {
        "id": "19UsCnJS6Lg2"
      },
      "outputs": [],
      "source": [
        "import pandas as pd\n",
        "import numpy as mp\n",
        "import matplotlib.pyplot as plt\n",
        "import seaborn as sns\n"
      ]
    },
    {
      "cell_type": "code",
      "execution_count": 65,
      "metadata": {
        "colab": {
          "base_uri": "https://localhost:8080/",
          "height": 35
        },
        "id": "H5gjiJ_p7tDb",
        "outputId": "9976abb2-d849-47bd-c47b-48d88a52b5af"
      },
      "outputs": [],
      "source": [
        "import pyforest"
      ]
    },
    {
      "cell_type": "markdown",
      "metadata": {
        "id": "KaZZOqCn8AYx"
      },
      "source": [
        "## Import the dataset"
      ]
    },
    {
      "cell_type": "code",
      "execution_count": 66,
      "metadata": {
        "colab": {
          "base_uri": "https://localhost:8080/",
          "height": 806
        },
        "id": "McpbD4Rq7vN4",
        "outputId": "a396b2d4-23c9-4df3-97dd-90e037e98d41"
      },
      "outputs": [
        {
          "name": "stdout",
          "output_type": "stream",
          "text": [
            "  Transaction_ID      Date        Time                           Merchant_ID  \\\n",
            "0      T00022452  20/04/23  4:50:22 AM  f65a902b-2396-40cc-9593-97e103f1bc15   \n",
            "1      T00032233  08/08/23  8:09:21 AM  d4a5efcb-4eb6-4d3a-8132-07bb3e6e13a4   \n",
            "2      T00037364  25/06/23  7:49:01 AM  759ad138-9473-4729-8699-3d72c7ffb983   \n",
            "3      T00015924  28/01/24  5:44:12 AM  d8f561e4-bded-4ef0-bcd8-5494b2e31a94   \n",
            "4      T00021805  21/06/23  9:40:59 AM  26fdd7a1-8537-4dfe-bcf7-f5a127b36682   \n",
            "\n",
            "                            Customer_ID                             Device_ID  \\\n",
            "0  89aaeceb-21f5-46c8-9de3-89dde6a10a75  c1e0deb4-7c97-4178-a838-38f4a2f0b57c   \n",
            "1  8a8962f9-e84a-4573-ab0b-187311978a21  62e14f64-b0ba-4284-889a-51ac05baf33e   \n",
            "2  c3f53ce6-e305-4460-a71d-93bde26043ab  4281c542-ac77-4269-b4bb-1de93ac12677   \n",
            "3  9f0c5613-7d4c-4454-bee1-c47fbba406a1  058b6488-2469-42f2-bc7f-707921d35cad   \n",
            "4  bf9aa6d5-7d3d-43f9-8631-31336720a383  068ff12c-127a-4cfb-9899-ddde37060b28   \n",
            "\n",
            "  Transaction_Type Payment_Gateway Transaction_City Transaction_State  \\\n",
            "0           Refund       SamplePay         Durgapur      Chhattisgarh   \n",
            "1    Bank Transfer       SamplePay  Rajpur Sonarpur  Himachal Pradesh   \n",
            "2    Bank Transfer           Other        New Delhi  Himachal Pradesh   \n",
            "3     Subscription         UPI Pay        Bharatpur      Chhattisgarh   \n",
            "4       Investment      Dummy Bank            Sagar           Mizoram   \n",
            "\n",
            "       IP_Address Transaction_Status Device_OS  Transaction_Frequency  \\\n",
            "0    140.213.7.48          Completed     MacOS                      1   \n",
            "1  184.108.177.45            Pending   Windows                     30   \n",
            "2  16.106.248.163             Failed   Android                      2   \n",
            "3  65.245.160.212             Failed   Android                      0   \n",
            "4   33.172.152.38          Completed     MacOS                      1   \n",
            "\n",
            "        Merchant_Category Transaction_Channel  Transaction_Amount_Deviation  \\\n",
            "0  Brand Vouchers and OTT            In-store                         25.02   \n",
            "1           Home delivery              Mobile                        -36.64   \n",
            "2               Utilities              Online                         44.19   \n",
            "3               Purchases              Online                        -54.34   \n",
            "4                   Other              Online                         12.38   \n",
            "\n",
            "   Days_Since_Last_Transaction   amount  fraud  \n",
            "0                            5   396.62      1  \n",
            "1                           20   121.94      1  \n",
            "2                           22   106.69      1  \n",
            "3                           28  3611.11      1  \n",
            "4                           25   374.89      1  \n"
          ]
        }
      ],
      "source": [
        "\n",
        "df = pd.read_csv('/Users/vaibhavjakhar/Desktop/UPI-FRAUD-DETECTION/Copy of Sample_DATA.csv')\n",
        "\n",
        "print(df.head())"
      ]
    },
    {
      "cell_type": "code",
      "execution_count": 67,
      "metadata": {
        "colab": {
          "base_uri": "https://localhost:8080/",
          "height": 487
        },
        "id": "PnPpWDpF8RK0",
        "outputId": "ab530936-70f9-480e-d933-90ce9ee24f40"
      },
      "outputs": [
        {
          "data": {
            "text/html": [
              "<div>\n",
              "<style scoped>\n",
              "    .dataframe tbody tr th:only-of-type {\n",
              "        vertical-align: middle;\n",
              "    }\n",
              "\n",
              "    .dataframe tbody tr th {\n",
              "        vertical-align: top;\n",
              "    }\n",
              "\n",
              "    .dataframe thead th {\n",
              "        text-align: right;\n",
              "    }\n",
              "</style>\n",
              "<table border=\"1\" class=\"dataframe\">\n",
              "  <thead>\n",
              "    <tr style=\"text-align: right;\">\n",
              "      <th></th>\n",
              "      <th>Transaction_ID</th>\n",
              "      <th>Date</th>\n",
              "      <th>Time</th>\n",
              "      <th>Merchant_ID</th>\n",
              "      <th>Customer_ID</th>\n",
              "      <th>Device_ID</th>\n",
              "      <th>Transaction_Type</th>\n",
              "      <th>Payment_Gateway</th>\n",
              "      <th>Transaction_City</th>\n",
              "      <th>Transaction_State</th>\n",
              "      <th>IP_Address</th>\n",
              "      <th>Transaction_Status</th>\n",
              "      <th>Device_OS</th>\n",
              "      <th>Transaction_Frequency</th>\n",
              "      <th>Merchant_Category</th>\n",
              "      <th>Transaction_Channel</th>\n",
              "      <th>Transaction_Amount_Deviation</th>\n",
              "      <th>Days_Since_Last_Transaction</th>\n",
              "      <th>amount</th>\n",
              "      <th>fraud</th>\n",
              "    </tr>\n",
              "  </thead>\n",
              "  <tbody>\n",
              "    <tr>\n",
              "      <th>0</th>\n",
              "      <td>T00022452</td>\n",
              "      <td>20/04/23</td>\n",
              "      <td>4:50:22 AM</td>\n",
              "      <td>f65a902b-2396-40cc-9593-97e103f1bc15</td>\n",
              "      <td>89aaeceb-21f5-46c8-9de3-89dde6a10a75</td>\n",
              "      <td>c1e0deb4-7c97-4178-a838-38f4a2f0b57c</td>\n",
              "      <td>Refund</td>\n",
              "      <td>SamplePay</td>\n",
              "      <td>Durgapur</td>\n",
              "      <td>Chhattisgarh</td>\n",
              "      <td>140.213.7.48</td>\n",
              "      <td>Completed</td>\n",
              "      <td>MacOS</td>\n",
              "      <td>1</td>\n",
              "      <td>Brand Vouchers and OTT</td>\n",
              "      <td>In-store</td>\n",
              "      <td>25.02</td>\n",
              "      <td>5</td>\n",
              "      <td>396.62</td>\n",
              "      <td>1</td>\n",
              "    </tr>\n",
              "    <tr>\n",
              "      <th>1</th>\n",
              "      <td>T00032233</td>\n",
              "      <td>08/08/23</td>\n",
              "      <td>8:09:21 AM</td>\n",
              "      <td>d4a5efcb-4eb6-4d3a-8132-07bb3e6e13a4</td>\n",
              "      <td>8a8962f9-e84a-4573-ab0b-187311978a21</td>\n",
              "      <td>62e14f64-b0ba-4284-889a-51ac05baf33e</td>\n",
              "      <td>Bank Transfer</td>\n",
              "      <td>SamplePay</td>\n",
              "      <td>Rajpur Sonarpur</td>\n",
              "      <td>Himachal Pradesh</td>\n",
              "      <td>184.108.177.45</td>\n",
              "      <td>Pending</td>\n",
              "      <td>Windows</td>\n",
              "      <td>30</td>\n",
              "      <td>Home delivery</td>\n",
              "      <td>Mobile</td>\n",
              "      <td>-36.64</td>\n",
              "      <td>20</td>\n",
              "      <td>121.94</td>\n",
              "      <td>1</td>\n",
              "    </tr>\n",
              "    <tr>\n",
              "      <th>2</th>\n",
              "      <td>T00037364</td>\n",
              "      <td>25/06/23</td>\n",
              "      <td>7:49:01 AM</td>\n",
              "      <td>759ad138-9473-4729-8699-3d72c7ffb983</td>\n",
              "      <td>c3f53ce6-e305-4460-a71d-93bde26043ab</td>\n",
              "      <td>4281c542-ac77-4269-b4bb-1de93ac12677</td>\n",
              "      <td>Bank Transfer</td>\n",
              "      <td>Other</td>\n",
              "      <td>New Delhi</td>\n",
              "      <td>Himachal Pradesh</td>\n",
              "      <td>16.106.248.163</td>\n",
              "      <td>Failed</td>\n",
              "      <td>Android</td>\n",
              "      <td>2</td>\n",
              "      <td>Utilities</td>\n",
              "      <td>Online</td>\n",
              "      <td>44.19</td>\n",
              "      <td>22</td>\n",
              "      <td>106.69</td>\n",
              "      <td>1</td>\n",
              "    </tr>\n",
              "    <tr>\n",
              "      <th>3</th>\n",
              "      <td>T00015924</td>\n",
              "      <td>28/01/24</td>\n",
              "      <td>5:44:12 AM</td>\n",
              "      <td>d8f561e4-bded-4ef0-bcd8-5494b2e31a94</td>\n",
              "      <td>9f0c5613-7d4c-4454-bee1-c47fbba406a1</td>\n",
              "      <td>058b6488-2469-42f2-bc7f-707921d35cad</td>\n",
              "      <td>Subscription</td>\n",
              "      <td>UPI Pay</td>\n",
              "      <td>Bharatpur</td>\n",
              "      <td>Chhattisgarh</td>\n",
              "      <td>65.245.160.212</td>\n",
              "      <td>Failed</td>\n",
              "      <td>Android</td>\n",
              "      <td>0</td>\n",
              "      <td>Purchases</td>\n",
              "      <td>Online</td>\n",
              "      <td>-54.34</td>\n",
              "      <td>28</td>\n",
              "      <td>3611.11</td>\n",
              "      <td>1</td>\n",
              "    </tr>\n",
              "    <tr>\n",
              "      <th>4</th>\n",
              "      <td>T00021805</td>\n",
              "      <td>21/06/23</td>\n",
              "      <td>9:40:59 AM</td>\n",
              "      <td>26fdd7a1-8537-4dfe-bcf7-f5a127b36682</td>\n",
              "      <td>bf9aa6d5-7d3d-43f9-8631-31336720a383</td>\n",
              "      <td>068ff12c-127a-4cfb-9899-ddde37060b28</td>\n",
              "      <td>Investment</td>\n",
              "      <td>Dummy Bank</td>\n",
              "      <td>Sagar</td>\n",
              "      <td>Mizoram</td>\n",
              "      <td>33.172.152.38</td>\n",
              "      <td>Completed</td>\n",
              "      <td>MacOS</td>\n",
              "      <td>1</td>\n",
              "      <td>Other</td>\n",
              "      <td>Online</td>\n",
              "      <td>12.38</td>\n",
              "      <td>25</td>\n",
              "      <td>374.89</td>\n",
              "      <td>1</td>\n",
              "    </tr>\n",
              "  </tbody>\n",
              "</table>\n",
              "</div>"
            ],
            "text/plain": [
              "  Transaction_ID      Date        Time                           Merchant_ID  \\\n",
              "0      T00022452  20/04/23  4:50:22 AM  f65a902b-2396-40cc-9593-97e103f1bc15   \n",
              "1      T00032233  08/08/23  8:09:21 AM  d4a5efcb-4eb6-4d3a-8132-07bb3e6e13a4   \n",
              "2      T00037364  25/06/23  7:49:01 AM  759ad138-9473-4729-8699-3d72c7ffb983   \n",
              "3      T00015924  28/01/24  5:44:12 AM  d8f561e4-bded-4ef0-bcd8-5494b2e31a94   \n",
              "4      T00021805  21/06/23  9:40:59 AM  26fdd7a1-8537-4dfe-bcf7-f5a127b36682   \n",
              "\n",
              "                            Customer_ID                             Device_ID  \\\n",
              "0  89aaeceb-21f5-46c8-9de3-89dde6a10a75  c1e0deb4-7c97-4178-a838-38f4a2f0b57c   \n",
              "1  8a8962f9-e84a-4573-ab0b-187311978a21  62e14f64-b0ba-4284-889a-51ac05baf33e   \n",
              "2  c3f53ce6-e305-4460-a71d-93bde26043ab  4281c542-ac77-4269-b4bb-1de93ac12677   \n",
              "3  9f0c5613-7d4c-4454-bee1-c47fbba406a1  058b6488-2469-42f2-bc7f-707921d35cad   \n",
              "4  bf9aa6d5-7d3d-43f9-8631-31336720a383  068ff12c-127a-4cfb-9899-ddde37060b28   \n",
              "\n",
              "  Transaction_Type Payment_Gateway Transaction_City Transaction_State  \\\n",
              "0           Refund       SamplePay         Durgapur      Chhattisgarh   \n",
              "1    Bank Transfer       SamplePay  Rajpur Sonarpur  Himachal Pradesh   \n",
              "2    Bank Transfer           Other        New Delhi  Himachal Pradesh   \n",
              "3     Subscription         UPI Pay        Bharatpur      Chhattisgarh   \n",
              "4       Investment      Dummy Bank            Sagar           Mizoram   \n",
              "\n",
              "       IP_Address Transaction_Status Device_OS  Transaction_Frequency  \\\n",
              "0    140.213.7.48          Completed     MacOS                      1   \n",
              "1  184.108.177.45            Pending   Windows                     30   \n",
              "2  16.106.248.163             Failed   Android                      2   \n",
              "3  65.245.160.212             Failed   Android                      0   \n",
              "4   33.172.152.38          Completed     MacOS                      1   \n",
              "\n",
              "        Merchant_Category Transaction_Channel  Transaction_Amount_Deviation  \\\n",
              "0  Brand Vouchers and OTT            In-store                         25.02   \n",
              "1           Home delivery              Mobile                        -36.64   \n",
              "2               Utilities              Online                         44.19   \n",
              "3               Purchases              Online                        -54.34   \n",
              "4                   Other              Online                         12.38   \n",
              "\n",
              "   Days_Since_Last_Transaction   amount  fraud  \n",
              "0                            5   396.62      1  \n",
              "1                           20   121.94      1  \n",
              "2                           22   106.69      1  \n",
              "3                           28  3611.11      1  \n",
              "4                           25   374.89      1  "
            ]
          },
          "execution_count": 67,
          "metadata": {},
          "output_type": "execute_result"
        }
      ],
      "source": [
        "df.head()"
      ]
    },
    {
      "cell_type": "code",
      "execution_count": 68,
      "metadata": {
        "colab": {
          "base_uri": "https://localhost:8080/"
        },
        "id": "_R2LZzLR84L0",
        "outputId": "7993acd6-79e2-402f-8dce-1c8022c8f813"
      },
      "outputs": [
        {
          "name": "stdout",
          "output_type": "stream",
          "text": [
            "<class 'pandas.core.frame.DataFrame'>\n",
            "RangeIndex: 647 entries, 0 to 646\n",
            "Data columns (total 20 columns):\n",
            " #   Column                        Non-Null Count  Dtype  \n",
            "---  ------                        --------------  -----  \n",
            " 0   Transaction_ID                647 non-null    object \n",
            " 1   Date                          647 non-null    object \n",
            " 2   Time                          647 non-null    object \n",
            " 3   Merchant_ID                   647 non-null    object \n",
            " 4   Customer_ID                   647 non-null    object \n",
            " 5   Device_ID                     647 non-null    object \n",
            " 6   Transaction_Type              647 non-null    object \n",
            " 7   Payment_Gateway               647 non-null    object \n",
            " 8   Transaction_City              647 non-null    object \n",
            " 9   Transaction_State             647 non-null    object \n",
            " 10  IP_Address                    647 non-null    object \n",
            " 11  Transaction_Status            647 non-null    object \n",
            " 12  Device_OS                     647 non-null    object \n",
            " 13  Transaction_Frequency         647 non-null    int64  \n",
            " 14  Merchant_Category             647 non-null    object \n",
            " 15  Transaction_Channel           647 non-null    object \n",
            " 16  Transaction_Amount_Deviation  647 non-null    float64\n",
            " 17  Days_Since_Last_Transaction   647 non-null    int64  \n",
            " 18  amount                        647 non-null    float64\n",
            " 19  fraud                         647 non-null    int64  \n",
            "dtypes: float64(2), int64(3), object(15)\n",
            "memory usage: 101.2+ KB\n"
          ]
        }
      ],
      "source": [
        "df.info()"
      ]
    },
    {
      "cell_type": "code",
      "execution_count": 69,
      "metadata": {
        "colab": {
          "base_uri": "https://localhost:8080/"
        },
        "id": "Mr7NRsZy85__",
        "outputId": "987c2652-3525-4209-a027-0f362748ff9d"
      },
      "outputs": [
        {
          "data": {
            "text/plain": [
              "Index(['Transaction_ID', 'Date', 'Time', 'Merchant_ID', 'Customer_ID',\n",
              "       'Device_ID', 'Transaction_Type', 'Payment_Gateway', 'Transaction_City',\n",
              "       'Transaction_State', 'IP_Address', 'Transaction_Status', 'Device_OS',\n",
              "       'Transaction_Frequency', 'Merchant_Category', 'Transaction_Channel',\n",
              "       'Transaction_Amount_Deviation', 'Days_Since_Last_Transaction', 'amount',\n",
              "       'fraud'],\n",
              "      dtype='object')"
            ]
          },
          "execution_count": 69,
          "metadata": {},
          "output_type": "execute_result"
        }
      ],
      "source": [
        "df.columns"
      ]
    },
    {
      "cell_type": "code",
      "execution_count": 70,
      "metadata": {
        "colab": {
          "base_uri": "https://localhost:8080/",
          "height": 300
        },
        "id": "ES33LaXR9cgF",
        "outputId": "07161973-032a-4b28-e5ec-64bf0486e7a2"
      },
      "outputs": [
        {
          "data": {
            "text/html": [
              "<div>\n",
              "<style scoped>\n",
              "    .dataframe tbody tr th:only-of-type {\n",
              "        vertical-align: middle;\n",
              "    }\n",
              "\n",
              "    .dataframe tbody tr th {\n",
              "        vertical-align: top;\n",
              "    }\n",
              "\n",
              "    .dataframe thead th {\n",
              "        text-align: right;\n",
              "    }\n",
              "</style>\n",
              "<table border=\"1\" class=\"dataframe\">\n",
              "  <thead>\n",
              "    <tr style=\"text-align: right;\">\n",
              "      <th></th>\n",
              "      <th>Transaction_Frequency</th>\n",
              "      <th>Transaction_Amount_Deviation</th>\n",
              "      <th>Days_Since_Last_Transaction</th>\n",
              "      <th>amount</th>\n",
              "      <th>fraud</th>\n",
              "    </tr>\n",
              "  </thead>\n",
              "  <tbody>\n",
              "    <tr>\n",
              "      <th>count</th>\n",
              "      <td>647.000000</td>\n",
              "      <td>647.000000</td>\n",
              "      <td>647.000000</td>\n",
              "      <td>647.000000</td>\n",
              "      <td>647.000000</td>\n",
              "    </tr>\n",
              "    <tr>\n",
              "      <th>mean</th>\n",
              "      <td>3.564142</td>\n",
              "      <td>5.014668</td>\n",
              "      <td>15.717156</td>\n",
              "      <td>128.839753</td>\n",
              "      <td>0.239567</td>\n",
              "    </tr>\n",
              "    <tr>\n",
              "      <th>std</th>\n",
              "      <td>6.454543</td>\n",
              "      <td>56.375914</td>\n",
              "      <td>8.218122</td>\n",
              "      <td>364.995747</td>\n",
              "      <td>0.427150</td>\n",
              "    </tr>\n",
              "    <tr>\n",
              "      <th>min</th>\n",
              "      <td>0.000000</td>\n",
              "      <td>-99.470000</td>\n",
              "      <td>1.000000</td>\n",
              "      <td>0.120000</td>\n",
              "      <td>0.000000</td>\n",
              "    </tr>\n",
              "    <tr>\n",
              "      <th>25%</th>\n",
              "      <td>1.000000</td>\n",
              "      <td>-42.355000</td>\n",
              "      <td>8.500000</td>\n",
              "      <td>17.155000</td>\n",
              "      <td>0.000000</td>\n",
              "    </tr>\n",
              "    <tr>\n",
              "      <th>50%</th>\n",
              "      <td>2.000000</td>\n",
              "      <td>8.380000</td>\n",
              "      <td>16.000000</td>\n",
              "      <td>35.000000</td>\n",
              "      <td>0.000000</td>\n",
              "    </tr>\n",
              "    <tr>\n",
              "      <th>75%</th>\n",
              "      <td>3.000000</td>\n",
              "      <td>52.290000</td>\n",
              "      <td>23.000000</td>\n",
              "      <td>74.770000</td>\n",
              "      <td>0.000000</td>\n",
              "    </tr>\n",
              "    <tr>\n",
              "      <th>max</th>\n",
              "      <td>50.000000</td>\n",
              "      <td>99.450000</td>\n",
              "      <td>29.000000</td>\n",
              "      <td>4883.620000</td>\n",
              "      <td>1.000000</td>\n",
              "    </tr>\n",
              "  </tbody>\n",
              "</table>\n",
              "</div>"
            ],
            "text/plain": [
              "       Transaction_Frequency  Transaction_Amount_Deviation  \\\n",
              "count             647.000000                    647.000000   \n",
              "mean                3.564142                      5.014668   \n",
              "std                 6.454543                     56.375914   \n",
              "min                 0.000000                    -99.470000   \n",
              "25%                 1.000000                    -42.355000   \n",
              "50%                 2.000000                      8.380000   \n",
              "75%                 3.000000                     52.290000   \n",
              "max                50.000000                     99.450000   \n",
              "\n",
              "       Days_Since_Last_Transaction       amount       fraud  \n",
              "count                   647.000000   647.000000  647.000000  \n",
              "mean                     15.717156   128.839753    0.239567  \n",
              "std                       8.218122   364.995747    0.427150  \n",
              "min                       1.000000     0.120000    0.000000  \n",
              "25%                       8.500000    17.155000    0.000000  \n",
              "50%                      16.000000    35.000000    0.000000  \n",
              "75%                      23.000000    74.770000    0.000000  \n",
              "max                      29.000000  4883.620000    1.000000  "
            ]
          },
          "execution_count": 70,
          "metadata": {},
          "output_type": "execute_result"
        }
      ],
      "source": [
        "df.describe()"
      ]
    },
    {
      "cell_type": "markdown",
      "metadata": {
        "id": "k2Jyj99SGKYR"
      },
      "source": [
        "data prepration\n",
        "\n",
        "*   Duplicate values\n",
        "*   missing values\n",
        "*   unique values\n",
        "*   removing / droping the unique values\n",
        "\n",
        "\n",
        "\n",
        "\n",
        "\n",
        "\n",
        "\n",
        "\n"
      ]
    },
    {
      "cell_type": "code",
      "execution_count": 71,
      "metadata": {
        "colab": {
          "base_uri": "https://localhost:8080/",
          "height": 458
        },
        "id": "KFf0pAFnGciu",
        "outputId": "fbd3d613-2792-4816-b971-3509c170923c"
      },
      "outputs": [
        {
          "data": {
            "text/plain": [
              "0      False\n",
              "1      False\n",
              "2      False\n",
              "3      False\n",
              "4      False\n",
              "       ...  \n",
              "642    False\n",
              "643    False\n",
              "644    False\n",
              "645    False\n",
              "646    False\n",
              "Length: 647, dtype: bool"
            ]
          },
          "execution_count": 71,
          "metadata": {},
          "output_type": "execute_result"
        }
      ],
      "source": [
        "df.duplicated()"
      ]
    },
    {
      "cell_type": "code",
      "execution_count": 72,
      "metadata": {
        "colab": {
          "base_uri": "https://localhost:8080/"
        },
        "id": "Fgy2Gsi9G860",
        "outputId": "87581830-b7e5-490f-c3f0-a160274224a4"
      },
      "outputs": [
        {
          "data": {
            "text/plain": [
              "(647, 20)"
            ]
          },
          "execution_count": 72,
          "metadata": {},
          "output_type": "execute_result"
        }
      ],
      "source": [
        "df.shape"
      ]
    },
    {
      "cell_type": "code",
      "execution_count": 73,
      "metadata": {
        "colab": {
          "base_uri": "https://localhost:8080/",
          "height": 711
        },
        "id": "ZN6bLO2CHMlu",
        "outputId": "00fc6c93-ad90-445f-a567-bb6a78bcd258"
      },
      "outputs": [
        {
          "data": {
            "text/plain": [
              "Transaction_ID                  647\n",
              "Date                            302\n",
              "Time                            641\n",
              "Merchant_ID                     647\n",
              "Customer_ID                     647\n",
              "Device_ID                       647\n",
              "Transaction_Type                  7\n",
              "Payment_Gateway                   9\n",
              "Transaction_City                281\n",
              "Transaction_State                28\n",
              "IP_Address                      647\n",
              "Transaction_Status                3\n",
              "Device_OS                         4\n",
              "Transaction_Frequency            14\n",
              "Merchant_Category                10\n",
              "Transaction_Channel               3\n",
              "Transaction_Amount_Deviation    635\n",
              "Days_Since_Last_Transaction      29\n",
              "amount                          633\n",
              "fraud                             2\n",
              "dtype: int64"
            ]
          },
          "execution_count": 73,
          "metadata": {},
          "output_type": "execute_result"
        }
      ],
      "source": [
        "df.nunique()"
      ]
    },
    {
      "cell_type": "code",
      "execution_count": 74,
      "metadata": {
        "id": "WN4z5ff7HRUd"
      },
      "outputs": [],
      "source": [
        "df.drop(['Transaction_ID', 'Merchant_ID', 'Customer_ID', 'Device_ID', 'IP_Address'], axis=1, inplace=True)\n"
      ]
    },
    {
      "cell_type": "code",
      "execution_count": 75,
      "metadata": {},
      "outputs": [],
      "source": [
        "import datetime as dt"
      ]
    },
    {
      "cell_type": "code",
      "execution_count": 76,
      "metadata": {},
      "outputs": [
        {
          "name": "stdout",
          "output_type": "stream",
          "text": [
            "         Date         Time Transaction_Type Payment_Gateway Transaction_City  \\\n",
            "0    20/04/23   4:50:22 AM           Refund       SamplePay         Durgapur   \n",
            "1    08/08/23   8:09:21 AM    Bank Transfer       SamplePay  Rajpur Sonarpur   \n",
            "2    25/06/23   7:49:01 AM    Bank Transfer           Other        New Delhi   \n",
            "3    28/01/24   5:44:12 AM     Subscription         UPI Pay        Bharatpur   \n",
            "4    21/06/23   9:40:59 AM       Investment      Dummy Bank            Sagar   \n",
            "..        ...          ...              ...             ...              ...   \n",
            "642  24/07/23   3:12:04 AM     Bill Payment      Gamma Bank        Hyderabad   \n",
            "643  05/07/23   6:21:18 AM         Purchase           Other        Bangalore   \n",
            "644  16/04/23   8:32:41 AM     Bill Payment           Other           Mumbai   \n",
            "645  28/10/23   9:33:42 AM    Bank Transfer    Bank of Data       Vijayawada   \n",
            "646  11/04/24  10:48:14 AM    Bank Transfer      Dummy Bank     Ichalkaranji   \n",
            "\n",
            "     Transaction_State Transaction_Status Device_OS  Transaction_Frequency  \\\n",
            "0         Chhattisgarh          Completed     MacOS                      1   \n",
            "1     Himachal Pradesh            Pending   Windows                     30   \n",
            "2     Himachal Pradesh             Failed   Android                      2   \n",
            "3         Chhattisgarh             Failed   Android                      0   \n",
            "4              Mizoram          Completed     MacOS                      1   \n",
            "..                 ...                ...       ...                    ...   \n",
            "642              Assam            Pending       iOS                      4   \n",
            "643            Tripura            Pending   Windows                     10   \n",
            "644  Arunachal Pradesh             Failed   Android                      1   \n",
            "645     Madhya Pradesh             Failed   Windows                      2   \n",
            "646              Assam          Completed       iOS                      2   \n",
            "\n",
            "          Merchant_Category Transaction_Channel  Transaction_Amount_Deviation  \\\n",
            "0    Brand Vouchers and OTT            In-store                         25.02   \n",
            "1             Home delivery              Mobile                        -36.64   \n",
            "2                 Utilities              Online                         44.19   \n",
            "3                 Purchases              Online                        -54.34   \n",
            "4                     Other              Online                         12.38   \n",
            "..                      ...                 ...                           ...   \n",
            "642         Travel bookings            In-store                         14.00   \n",
            "643           More Services              Mobile                        -33.38   \n",
            "644           More Services              Online                        -44.37   \n",
            "645              Investment            In-store                        -57.29   \n",
            "646  Brand Vouchers and OTT            In-store                        -11.94   \n",
            "\n",
            "     Days_Since_Last_Transaction   amount  fraud  \n",
            "0                              5   396.62      1  \n",
            "1                             20   121.94      1  \n",
            "2                             22   106.69      1  \n",
            "3                             28  3611.11      1  \n",
            "4                             25   374.89      1  \n",
            "..                           ...      ...    ...  \n",
            "642                           25    28.27      0  \n",
            "643                           28    26.26      0  \n",
            "644                           19     6.02      0  \n",
            "645                           12    17.12      0  \n",
            "646                           26    50.60      0  \n",
            "\n",
            "[647 rows x 15 columns]\n"
          ]
        }
      ],
      "source": [
        "print(df)"
      ]
    },
    {
      "cell_type": "code",
      "execution_count": 77,
      "metadata": {},
      "outputs": [],
      "source": [
        "df['Date'] = pd.to_datetime(df['Date'], format= '%d/%m/%y')\n"
      ]
    },
    {
      "cell_type": "code",
      "execution_count": 78,
      "metadata": {},
      "outputs": [],
      "source": [
        "df['Year'] = df['Date'].dt.year"
      ]
    },
    {
      "cell_type": "code",
      "execution_count": 79,
      "metadata": {},
      "outputs": [],
      "source": [
        "df['Month'] = df['Date'].dt.month"
      ]
    },
    {
      "cell_type": "code",
      "execution_count": 80,
      "metadata": {},
      "outputs": [
        {
          "data": {
            "text/plain": [
              "<bound method NDFrame.head of           Date         Time Transaction_Type Payment_Gateway Transaction_City  \\\n",
              "0   2023-04-20   4:50:22 AM           Refund       SamplePay         Durgapur   \n",
              "1   2023-08-08   8:09:21 AM    Bank Transfer       SamplePay  Rajpur Sonarpur   \n",
              "2   2023-06-25   7:49:01 AM    Bank Transfer           Other        New Delhi   \n",
              "3   2024-01-28   5:44:12 AM     Subscription         UPI Pay        Bharatpur   \n",
              "4   2023-06-21   9:40:59 AM       Investment      Dummy Bank            Sagar   \n",
              "..         ...          ...              ...             ...              ...   \n",
              "642 2023-07-24   3:12:04 AM     Bill Payment      Gamma Bank        Hyderabad   \n",
              "643 2023-07-05   6:21:18 AM         Purchase           Other        Bangalore   \n",
              "644 2023-04-16   8:32:41 AM     Bill Payment           Other           Mumbai   \n",
              "645 2023-10-28   9:33:42 AM    Bank Transfer    Bank of Data       Vijayawada   \n",
              "646 2024-04-11  10:48:14 AM    Bank Transfer      Dummy Bank     Ichalkaranji   \n",
              "\n",
              "     Transaction_State Transaction_Status Device_OS  Transaction_Frequency  \\\n",
              "0         Chhattisgarh          Completed     MacOS                      1   \n",
              "1     Himachal Pradesh            Pending   Windows                     30   \n",
              "2     Himachal Pradesh             Failed   Android                      2   \n",
              "3         Chhattisgarh             Failed   Android                      0   \n",
              "4              Mizoram          Completed     MacOS                      1   \n",
              "..                 ...                ...       ...                    ...   \n",
              "642              Assam            Pending       iOS                      4   \n",
              "643            Tripura            Pending   Windows                     10   \n",
              "644  Arunachal Pradesh             Failed   Android                      1   \n",
              "645     Madhya Pradesh             Failed   Windows                      2   \n",
              "646              Assam          Completed       iOS                      2   \n",
              "\n",
              "          Merchant_Category Transaction_Channel  Transaction_Amount_Deviation  \\\n",
              "0    Brand Vouchers and OTT            In-store                         25.02   \n",
              "1             Home delivery              Mobile                        -36.64   \n",
              "2                 Utilities              Online                         44.19   \n",
              "3                 Purchases              Online                        -54.34   \n",
              "4                     Other              Online                         12.38   \n",
              "..                      ...                 ...                           ...   \n",
              "642         Travel bookings            In-store                         14.00   \n",
              "643           More Services              Mobile                        -33.38   \n",
              "644           More Services              Online                        -44.37   \n",
              "645              Investment            In-store                        -57.29   \n",
              "646  Brand Vouchers and OTT            In-store                        -11.94   \n",
              "\n",
              "     Days_Since_Last_Transaction   amount  fraud  Year  Month  \n",
              "0                              5   396.62      1  2023      4  \n",
              "1                             20   121.94      1  2023      8  \n",
              "2                             22   106.69      1  2023      6  \n",
              "3                             28  3611.11      1  2024      1  \n",
              "4                             25   374.89      1  2023      6  \n",
              "..                           ...      ...    ...   ...    ...  \n",
              "642                           25    28.27      0  2023      7  \n",
              "643                           28    26.26      0  2023      7  \n",
              "644                           19     6.02      0  2023      4  \n",
              "645                           12    17.12      0  2023     10  \n",
              "646                           26    50.60      0  2024      4  \n",
              "\n",
              "[647 rows x 17 columns]>"
            ]
          },
          "execution_count": 80,
          "metadata": {},
          "output_type": "execute_result"
        }
      ],
      "source": [
        "df.head"
      ]
    },
    {
      "cell_type": "code",
      "execution_count": 81,
      "metadata": {},
      "outputs": [
        {
          "data": {
            "text/plain": [
              "12"
            ]
          },
          "execution_count": 81,
          "metadata": {},
          "output_type": "execute_result"
        }
      ],
      "source": [
        "df['Month'].sort_values(ascending=True).nunique()"
      ]
    },
    {
      "cell_type": "code",
      "execution_count": 82,
      "metadata": {},
      "outputs": [
        {
          "name": "stdout",
          "output_type": "stream",
          "text": [
            "{1: 'Jan', 2: 'Feb', 3: 'Mar', 4: 'Apr', 5: 'May', 6: 'Jun', 7: 'Jul', 8: 'Aug', 9: 'Sep', 10: 'Oct', 11: 'Nov', 12: 'Dec'}\n"
          ]
        }
      ],
      "source": [
        "months = {\n",
        "    1: \"Jan\", 2: \"Feb\", 3: \"Mar\", 4: \"Apr\",\n",
        "    5: \"May\", 6: \"Jun\", 7: \"Jul\", 8: \"Aug\",\n",
        "    9: \"Sep\", 10: \"Oct\", 11: \"Nov\", 12: \"Dec\"\n",
        "}\n",
        "\n",
        "print(months)\n"
      ]
    },
    {
      "cell_type": "code",
      "execution_count": 85,
      "metadata": {},
      "outputs": [],
      "source": [
        "df['Month'] = df['Month'].map(months)"
      ]
    },
    {
      "cell_type": "code",
      "execution_count": 86,
      "metadata": {},
      "outputs": [
        {
          "data": {
            "text/plain": [
              "0      Apr\n",
              "1      Aug\n",
              "2      Jun\n",
              "3      Jan\n",
              "4      Jun\n",
              "      ... \n",
              "642    Jul\n",
              "643    Jul\n",
              "644    Apr\n",
              "645    Oct\n",
              "646    Apr\n",
              "Name: Month, Length: 647, dtype: object"
            ]
          },
          "execution_count": 86,
          "metadata": {},
          "output_type": "execute_result"
        }
      ],
      "source": [
        "df.Month"
      ]
    },
    {
      "cell_type": "code",
      "execution_count": 87,
      "metadata": {},
      "outputs": [
        {
          "data": {
            "text/plain": [
              "Index(['Date', 'Time', 'Transaction_Type', 'Payment_Gateway',\n",
              "       'Transaction_City', 'Transaction_State', 'Transaction_Status',\n",
              "       'Device_OS', 'Transaction_Frequency', 'Merchant_Category',\n",
              "       'Transaction_Channel', 'Transaction_Amount_Deviation',\n",
              "       'Days_Since_Last_Transaction', 'amount', 'fraud', 'Year', 'Month'],\n",
              "      dtype='object')"
            ]
          },
          "execution_count": 87,
          "metadata": {},
          "output_type": "execute_result"
        }
      ],
      "source": [
        "df.columns"
      ]
    },
    {
      "cell_type": "code",
      "execution_count": 88,
      "metadata": {},
      "outputs": [],
      "source": [
        "df.drop(['Date'] , axis=1 , inplace=True)\n"
      ]
    },
    {
      "cell_type": "code",
      "execution_count": 90,
      "metadata": {},
      "outputs": [],
      "source": [
        "df.drop(['Time'] , axis=1 , inplace=True)"
      ]
    },
    {
      "cell_type": "code",
      "execution_count": 92,
      "metadata": {},
      "outputs": [
        {
          "data": {
            "text/plain": [
              "fraud\n",
              "0    0.760433\n",
              "1    0.239567\n",
              "Name: proportion, dtype: float64"
            ]
          },
          "execution_count": 92,
          "metadata": {},
          "output_type": "execute_result"
        }
      ],
      "source": [
        "df['fraud'].value_counts(normalize=True)"
      ]
    },
    {
      "cell_type": "code",
      "execution_count": 93,
      "metadata": {},
      "outputs": [
        {
          "data": {
            "text/plain": [
              "<Axes: xlabel='fraud', ylabel='count'>"
            ]
          },
          "execution_count": 93,
          "metadata": {},
          "output_type": "execute_result"
        },
        {
          "data": {
            "image/png": "[encoded data removed]",
            "text/plain": [
              "<Figure size 640x480 with 1 Axes>"
            ]
          },
          "metadata": {},
          "output_type": "display_data"
        }
      ],
      "source": [
        "sns.countplot(data=df, x='fraud')"
      ]
    },
    {
      "cell_type": "code",
      "execution_count": 94,
      "metadata": {},
      "outputs": [],
      "source": [
        "normal = df[df['fraud'] == 0]\n",
        "fraud = df[df['fraud'] == 1]"
      ]
    },
    {
      "cell_type": "code",
      "execution_count": 95,
      "metadata": {},
      "outputs": [
        {
          "data": {
            "text/plain": [
              "(492, 15)"
            ]
          },
          "execution_count": 95,
          "metadata": {},
          "output_type": "execute_result"
        }
      ],
      "source": [
        "normal.shape"
      ]
    },
    {
      "cell_type": "code",
      "execution_count": 96,
      "metadata": {},
      "outputs": [
        {
          "data": {
            "text/plain": [
              "(155, 15)"
            ]
          },
          "execution_count": 96,
          "metadata": {},
          "output_type": "execute_result"
        }
      ],
      "source": [
        "fraud.shape"
      ]
    },
    {
      "cell_type": "code",
      "execution_count": 97,
      "metadata": {},
      "outputs": [
        {
          "data": {
            "text/plain": [
              "Transaction_Type                 object\n",
              "Payment_Gateway                  object\n",
              "Transaction_City                 object\n",
              "Transaction_State                object\n",
              "Transaction_Status               object\n",
              "Device_OS                        object\n",
              "Transaction_Frequency             int64\n",
              "Merchant_Category                object\n",
              "Transaction_Channel              object\n",
              "Transaction_Amount_Deviation    float64\n",
              "Days_Since_Last_Transaction       int64\n",
              "amount                          float64\n",
              "fraud                             int64\n",
              "Year                              int32\n",
              "Month                            object\n",
              "dtype: object"
            ]
          },
          "execution_count": 97,
          "metadata": {},
          "output_type": "execute_result"
        }
      ],
      "source": [
        "fraud.dtypes"
      ]
    },
    {
      "cell_type": "code",
      "execution_count": 98,
      "metadata": {},
      "outputs": [
        {
          "data": {
            "text/plain": [
              "(647, 15)"
            ]
          },
          "execution_count": 98,
          "metadata": {},
          "output_type": "execute_result"
        }
      ],
      "source": [
        "df.shape"
      ]
    },
    {
      "cell_type": "code",
      "execution_count": 100,
      "metadata": {},
      "outputs": [],
      "source": [
        "df.drop(['Days_Since_Last_Transaction', 'Transaction_Frequency', 'Transaction_Amount_Deviation', 'Transaction_Status', 'Device_OS' , 'Transaction_Channel' , 'Transaction_City'], axis=1, inplace=True)\n"
      ]
    },
    {
      "cell_type": "code",
      "execution_count": 101,
      "metadata": {},
      "outputs": [
        {
          "data": {
            "text/plain": [
              "(647, 8)"
            ]
          },
          "execution_count": 101,
          "metadata": {},
          "output_type": "execute_result"
        }
      ],
      "source": [
        "df.shape"
      ]
    },
    {
      "cell_type": "code",
      "execution_count": 103,
      "metadata": {},
      "outputs": [],
      "source": [
        "data = df.copy()"
      ]
    },
    {
      "cell_type": "code",
      "execution_count": 105,
      "metadata": {},
      "outputs": [
        {
          "name": "stdout",
          "output_type": "stream",
          "text": [
            "<class 'pandas.core.frame.DataFrame'>\n",
            "RangeIndex: 647 entries, 0 to 646\n",
            "Data columns (total 8 columns):\n",
            " #   Column             Non-Null Count  Dtype  \n",
            "---  ------             --------------  -----  \n",
            " 0   Transaction_Type   647 non-null    object \n",
            " 1   Payment_Gateway    647 non-null    object \n",
            " 2   Transaction_State  647 non-null    object \n",
            " 3   Merchant_Category  647 non-null    object \n",
            " 4   amount             647 non-null    float64\n",
            " 5   fraud              647 non-null    int64  \n",
            " 6   Year               647 non-null    int32  \n",
            " 7   Month              647 non-null    object \n",
            "dtypes: float64(1), int32(1), int64(1), object(5)\n",
            "memory usage: 38.0+ KB\n"
          ]
        }
      ],
      "source": [
        "data.info()"
      ]
    },
    {
      "cell_type": "code",
      "execution_count": 106,
      "metadata": {},
      "outputs": [],
      "source": [
        "data['Year'] = data['Year'].astype('object')"
      ]
    },
    {
      "cell_type": "code",
      "execution_count": 107,
      "metadata": {},
      "outputs": [],
      "source": [
        "categorical_cols = data.select_dtypes(include=['object']).columns"
      ]
    },
    {
      "cell_type": "code",
      "execution_count": 109,
      "metadata": {},
      "outputs": [],
      "source": [
        "from sklearn.preprocessing import LabelEncoder\n",
        "\n",
        "cols = ['Year', 'Month']\n",
        "\n",
        "label_encoder = LabelEncoder()\n",
        "for col in cols:\n",
        "    data[col] = label_encoder.fit_transform(data[col])\n",
        "\n"
      ]
    },
    {
      "cell_type": "code",
      "execution_count": 110,
      "metadata": {},
      "outputs": [
        {
          "data": {
            "text/html": [
              "<div>\n",
              "<style scoped>\n",
              "    .dataframe tbody tr th:only-of-type {\n",
              "        vertical-align: middle;\n",
              "    }\n",
              "\n",
              "    .dataframe tbody tr th {\n",
              "        vertical-align: top;\n",
              "    }\n",
              "\n",
              "    .dataframe thead th {\n",
              "        text-align: right;\n",
              "    }\n",
              "</style>\n",
              "<table border=\"1\" class=\"dataframe\">\n",
              "  <thead>\n",
              "    <tr style=\"text-align: right;\">\n",
              "      <th></th>\n",
              "      <th>amount</th>\n",
              "      <th>fraud</th>\n",
              "      <th>Year</th>\n",
              "      <th>Month</th>\n",
              "      <th>Transaction_Type_Bill Payment</th>\n",
              "      <th>Transaction_Type_Investment</th>\n",
              "      <th>Transaction_Type_Other</th>\n",
              "      <th>Transaction_Type_Purchase</th>\n",
              "      <th>Transaction_Type_Refund</th>\n",
              "      <th>Transaction_Type_Subscription</th>\n",
              "      <th>...</th>\n",
              "      <th>Transaction_State_West Bengal</th>\n",
              "      <th>Merchant_Category_Donations and Devotion</th>\n",
              "      <th>Merchant_Category_Financial services and Taxes</th>\n",
              "      <th>Merchant_Category_Home delivery</th>\n",
              "      <th>Merchant_Category_Investment</th>\n",
              "      <th>Merchant_Category_More Services</th>\n",
              "      <th>Merchant_Category_Other</th>\n",
              "      <th>Merchant_Category_Purchases</th>\n",
              "      <th>Merchant_Category_Travel bookings</th>\n",
              "      <th>Merchant_Category_Utilities</th>\n",
              "    </tr>\n",
              "  </thead>\n",
              "  <tbody>\n",
              "    <tr>\n",
              "      <th>0</th>\n",
              "      <td>396</td>\n",
              "      <td>1</td>\n",
              "      <td>0</td>\n",
              "      <td>0</td>\n",
              "      <td>0</td>\n",
              "      <td>0</td>\n",
              "      <td>0</td>\n",
              "      <td>0</td>\n",
              "      <td>1</td>\n",
              "      <td>0</td>\n",
              "      <td>...</td>\n",
              "      <td>0</td>\n",
              "      <td>0</td>\n",
              "      <td>0</td>\n",
              "      <td>0</td>\n",
              "      <td>0</td>\n",
              "      <td>0</td>\n",
              "      <td>0</td>\n",
              "      <td>0</td>\n",
              "      <td>0</td>\n",
              "      <td>0</td>\n",
              "    </tr>\n",
              "    <tr>\n",
              "      <th>1</th>\n",
              "      <td>121</td>\n",
              "      <td>1</td>\n",
              "      <td>0</td>\n",
              "      <td>1</td>\n",
              "      <td>0</td>\n",
              "      <td>0</td>\n",
              "      <td>0</td>\n",
              "      <td>0</td>\n",
              "      <td>0</td>\n",
              "      <td>0</td>\n",
              "      <td>...</td>\n",
              "      <td>0</td>\n",
              "      <td>0</td>\n",
              "      <td>0</td>\n",
              "      <td>1</td>\n",
              "      <td>0</td>\n",
              "      <td>0</td>\n",
              "      <td>0</td>\n",
              "      <td>0</td>\n",
              "      <td>0</td>\n",
              "      <td>0</td>\n",
              "    </tr>\n",
              "    <tr>\n",
              "      <th>2</th>\n",
              "      <td>106</td>\n",
              "      <td>1</td>\n",
              "      <td>0</td>\n",
              "      <td>6</td>\n",
              "      <td>0</td>\n",
              "      <td>0</td>\n",
              "      <td>0</td>\n",
              "      <td>0</td>\n",
              "      <td>0</td>\n",
              "      <td>0</td>\n",
              "      <td>...</td>\n",
              "      <td>0</td>\n",
              "      <td>0</td>\n",
              "      <td>0</td>\n",
              "      <td>0</td>\n",
              "      <td>0</td>\n",
              "      <td>0</td>\n",
              "      <td>0</td>\n",
              "      <td>0</td>\n",
              "      <td>0</td>\n",
              "      <td>1</td>\n",
              "    </tr>\n",
              "    <tr>\n",
              "      <th>3</th>\n",
              "      <td>3611</td>\n",
              "      <td>1</td>\n",
              "      <td>1</td>\n",
              "      <td>4</td>\n",
              "      <td>0</td>\n",
              "      <td>0</td>\n",
              "      <td>0</td>\n",
              "      <td>0</td>\n",
              "      <td>0</td>\n",
              "      <td>1</td>\n",
              "      <td>...</td>\n",
              "      <td>0</td>\n",
              "      <td>0</td>\n",
              "      <td>0</td>\n",
              "      <td>0</td>\n",
              "      <td>0</td>\n",
              "      <td>0</td>\n",
              "      <td>0</td>\n",
              "      <td>1</td>\n",
              "      <td>0</td>\n",
              "      <td>0</td>\n",
              "    </tr>\n",
              "    <tr>\n",
              "      <th>4</th>\n",
              "      <td>374</td>\n",
              "      <td>1</td>\n",
              "      <td>0</td>\n",
              "      <td>6</td>\n",
              "      <td>0</td>\n",
              "      <td>1</td>\n",
              "      <td>0</td>\n",
              "      <td>0</td>\n",
              "      <td>0</td>\n",
              "      <td>0</td>\n",
              "      <td>...</td>\n",
              "      <td>0</td>\n",
              "      <td>0</td>\n",
              "      <td>0</td>\n",
              "      <td>0</td>\n",
              "      <td>0</td>\n",
              "      <td>0</td>\n",
              "      <td>1</td>\n",
              "      <td>0</td>\n",
              "      <td>0</td>\n",
              "      <td>0</td>\n",
              "    </tr>\n",
              "  </tbody>\n",
              "</table>\n",
              "<p>5 rows × 54 columns</p>\n",
              "</div>"
            ],
            "text/plain": [
              "   amount  fraud  Year  Month  Transaction_Type_Bill Payment  \\\n",
              "0     396      1     0      0                              0   \n",
              "1     121      1     0      1                              0   \n",
              "2     106      1     0      6                              0   \n",
              "3    3611      1     1      4                              0   \n",
              "4     374      1     0      6                              0   \n",
              "\n",
              "   Transaction_Type_Investment  Transaction_Type_Other  \\\n",
              "0                            0                       0   \n",
              "1                            0                       0   \n",
              "2                            0                       0   \n",
              "3                            0                       0   \n",
              "4                            1                       0   \n",
              "\n",
              "   Transaction_Type_Purchase  Transaction_Type_Refund  \\\n",
              "0                          0                        1   \n",
              "1                          0                        0   \n",
              "2                          0                        0   \n",
              "3                          0                        0   \n",
              "4                          0                        0   \n",
              "\n",
              "   Transaction_Type_Subscription  ...  Transaction_State_West Bengal  \\\n",
              "0                              0  ...                              0   \n",
              "1                              0  ...                              0   \n",
              "2                              0  ...                              0   \n",
              "3                              1  ...                              0   \n",
              "4                              0  ...                              0   \n",
              "\n",
              "   Merchant_Category_Donations and Devotion  \\\n",
              "0                                         0   \n",
              "1                                         0   \n",
              "2                                         0   \n",
              "3                                         0   \n",
              "4                                         0   \n",
              "\n",
              "   Merchant_Category_Financial services and Taxes  \\\n",
              "0                                               0   \n",
              "1                                               0   \n",
              "2                                               0   \n",
              "3                                               0   \n",
              "4                                               0   \n",
              "\n",
              "   Merchant_Category_Home delivery  Merchant_Category_Investment  \\\n",
              "0                                0                             0   \n",
              "1                                1                             0   \n",
              "2                                0                             0   \n",
              "3                                0                             0   \n",
              "4                                0                             0   \n",
              "\n",
              "   Merchant_Category_More Services  Merchant_Category_Other  \\\n",
              "0                                0                        0   \n",
              "1                                0                        0   \n",
              "2                                0                        0   \n",
              "3                                0                        0   \n",
              "4                                0                        1   \n",
              "\n",
              "   Merchant_Category_Purchases  Merchant_Category_Travel bookings  \\\n",
              "0                            0                                  0   \n",
              "1                            0                                  0   \n",
              "2                            0                                  0   \n",
              "3                            1                                  0   \n",
              "4                            0                                  0   \n",
              "\n",
              "   Merchant_Category_Utilities  \n",
              "0                            0  \n",
              "1                            0  \n",
              "2                            1  \n",
              "3                            0  \n",
              "4                            0  \n",
              "\n",
              "[5 rows x 54 columns]"
            ]
          },
          "execution_count": 110,
          "metadata": {},
          "output_type": "execute_result"
        }
      ],
      "source": [
        "# Non-ordinal variables\n",
        "non_ordinal = ['Transaction_Type', 'Payment_Gateway', 'Transaction_State', 'Merchant_Category']\n",
        "# Performing one-hot encoding for non_ordinal variables\n",
        "data = pd.get_dummies(data, columns=non_ordinal, drop_first=True)\n",
        "\n",
        "# Convert boolean columns to integers\n",
        "data = data.astype(int)\n",
        "\n",
        "data.head()"
      ]
    },
    {
      "cell_type": "code",
      "execution_count": 111,
      "metadata": {},
      "outputs": [
        {
          "data": {
            "text/plain": [
              "amount                                            int64\n",
              "fraud                                             int64\n",
              "Year                                              int64\n",
              "Month                                             int64\n",
              "Transaction_Type_Bill Payment                     int64\n",
              "Transaction_Type_Investment                       int64\n",
              "Transaction_Type_Other                            int64\n",
              "Transaction_Type_Purchase                         int64\n",
              "Transaction_Type_Refund                           int64\n",
              "Transaction_Type_Subscription                     int64\n",
              "Payment_Gateway_Bank of Data                      int64\n",
              "Payment_Gateway_CReditPAY                         int64\n",
              "Payment_Gateway_Dummy Bank                        int64\n",
              "Payment_Gateway_Gamma Bank                        int64\n",
              "Payment_Gateway_Other                             int64\n",
              "Payment_Gateway_SamplePay                         int64\n",
              "Payment_Gateway_Sigma Bank                        int64\n",
              "Payment_Gateway_UPI Pay                           int64\n",
              "Transaction_State_Arunachal Pradesh               int64\n",
              "Transaction_State_Assam                           int64\n",
              "Transaction_State_Bihar                           int64\n",
              "Transaction_State_Chhattisgarh                    int64\n",
              "Transaction_State_Goa                             int64\n",
              "Transaction_State_Gujarat                         int64\n",
              "Transaction_State_Haryana                         int64\n",
              "Transaction_State_Himachal Pradesh                int64\n",
              "Transaction_State_Jharkhand                       int64\n",
              "Transaction_State_Karnataka                       int64\n",
              "Transaction_State_Kerala                          int64\n",
              "Transaction_State_Madhya Pradesh                  int64\n",
              "Transaction_State_Maharashtra                     int64\n",
              "Transaction_State_Manipur                         int64\n",
              "Transaction_State_Meghalaya                       int64\n",
              "Transaction_State_Mizoram                         int64\n",
              "Transaction_State_Nagaland                        int64\n",
              "Transaction_State_Odisha                          int64\n",
              "Transaction_State_Punjab                          int64\n",
              "Transaction_State_Rajasthan                       int64\n",
              "Transaction_State_Sikkim                          int64\n",
              "Transaction_State_Tamil Nadu                      int64\n",
              "Transaction_State_Telangana                       int64\n",
              "Transaction_State_Tripura                         int64\n",
              "Transaction_State_Uttar Pradesh                   int64\n",
              "Transaction_State_Uttarakhand                     int64\n",
              "Transaction_State_West Bengal                     int64\n",
              "Merchant_Category_Donations and Devotion          int64\n",
              "Merchant_Category_Financial services and Taxes    int64\n",
              "Merchant_Category_Home delivery                   int64\n",
              "Merchant_Category_Investment                      int64\n",
              "Merchant_Category_More Services                   int64\n",
              "Merchant_Category_Other                           int64\n",
              "Merchant_Category_Purchases                       int64\n",
              "Merchant_Category_Travel bookings                 int64\n",
              "Merchant_Category_Utilities                       int64\n",
              "dtype: object"
            ]
          },
          "execution_count": 111,
          "metadata": {},
          "output_type": "execute_result"
        }
      ],
      "source": [
        "data.dtypes"
      ]
    },
    {
      "cell_type": "code",
      "execution_count": 112,
      "metadata": {},
      "outputs": [],
      "source": [
        "\n",
        "from sklearn.model_selection import train_test_split\n",
        "\n",
        "# Split data into 'fraud' and 'non-fraud' classes\n",
        "fraud_data = data[data['fraud'] == 1]\n",
        "non_fraud_data = data[data['fraud'] == 0]\n",
        "\n",
        "# Sample each class separately while maintaining proportions\n",
        "sampled_fraud_data = fraud_data.sample(frac=0.5, random_state=42)\n",
        "sampled_non_fraud_data = non_fraud_data.sample(frac=0.5, random_state=42)\n",
        "\n",
        "# Combine the sampled data back together\n",
        "data = pd.concat([sampled_fraud_data, sampled_non_fraud_data])"
      ]
    },
    {
      "cell_type": "code",
      "execution_count": 114,
      "metadata": {},
      "outputs": [
        {
          "name": "stdout",
          "output_type": "stream",
          "text": [
            "Training features shape: (259, 53)\n",
            "Test features shape: (65, 53)\n",
            "Training target shape: (259,)\n",
            "Test target shape: (65,)\n"
          ]
        }
      ],
      "source": [
        "from sklearn.model_selection import train_test_split\n",
        "from sklearn.preprocessing import StandardScaler\n",
        "\n",
        "# Perform scaling\n",
        "def preprocess_data(X):\n",
        "    # Initialize StandardScaler\n",
        "    scaler = StandardScaler()\n",
        "    \n",
        "    # Scale the features\n",
        "    X_scaled = scaler.fit_transform(X)\n",
        "    return X_scaled\n",
        "\n",
        "# Splitting the dataset into features (X) and target variable (y)\n",
        "X = data.drop('fraud', axis=1)\n",
        "y = data['fraud']\n",
        "\n",
        "# Preprocess the features\n",
        "X_scaled = preprocess_data(X)\n",
        "\n",
        "# Split the preprocessed data into the training set and test set\n",
        "X_train, X_test, y_train, y_test = train_test_split(X_scaled, y, test_size=0.2, random_state=42)\n",
        "\n",
        "# Print the shapes of the training and test sets\n",
        "print(\"Training features shape:\", X_train.shape)\n",
        "print(\"Test features shape:\", X_test.shape)\n",
        "print(\"Training target shape:\", y_train.shape)\n",
        "print(\"Test target shape:\", y_test.shape)"
      ]
    },
    {
      "cell_type": "code",
      "execution_count": 118,
      "metadata": {},
      "outputs": [
        {
          "name": "stdout",
          "output_type": "stream",
          "text": [
            "Decision Tree:\n",
            "Random Forest:\n",
            "Gradient Boosting:\n",
            "XGBoost:\n"
          ]
        },
        {
          "data": {
            "text/html": [
              "<div>\n",
              "<style scoped>\n",
              "    .dataframe tbody tr th:only-of-type {\n",
              "        vertical-align: middle;\n",
              "    }\n",
              "\n",
              "    .dataframe tbody tr th {\n",
              "        vertical-align: top;\n",
              "    }\n",
              "\n",
              "    .dataframe thead th {\n",
              "        text-align: right;\n",
              "    }\n",
              "</style>\n",
              "<table border=\"1\" class=\"dataframe\">\n",
              "  <thead>\n",
              "    <tr style=\"text-align: right;\">\n",
              "      <th></th>\n",
              "      <th>Model</th>\n",
              "      <th>Accuracy</th>\n",
              "      <th>Precision</th>\n",
              "      <th>Recall</th>\n",
              "      <th>F1 Score</th>\n",
              "      <th>ROC AUC</th>\n",
              "    </tr>\n",
              "  </thead>\n",
              "  <tbody>\n",
              "    <tr>\n",
              "      <th>0</th>\n",
              "      <td>DecisionTreeClassifier</td>\n",
              "      <td>0.907692</td>\n",
              "      <td>0.812500</td>\n",
              "      <td>0.8125</td>\n",
              "      <td>0.812500</td>\n",
              "      <td>0.875638</td>\n",
              "    </tr>\n",
              "    <tr>\n",
              "      <th>1</th>\n",
              "      <td>RandomForestClassifier</td>\n",
              "      <td>0.953846</td>\n",
              "      <td>1.000000</td>\n",
              "      <td>0.8125</td>\n",
              "      <td>0.896552</td>\n",
              "      <td>0.906250</td>\n",
              "    </tr>\n",
              "    <tr>\n",
              "      <th>2</th>\n",
              "      <td>GradientBoostingClassifier</td>\n",
              "      <td>0.923077</td>\n",
              "      <td>0.866667</td>\n",
              "      <td>0.8125</td>\n",
              "      <td>0.838710</td>\n",
              "      <td>0.885842</td>\n",
              "    </tr>\n",
              "    <tr>\n",
              "      <th>3</th>\n",
              "      <td>XGBClassifier</td>\n",
              "      <td>0.969231</td>\n",
              "      <td>1.000000</td>\n",
              "      <td>0.8750</td>\n",
              "      <td>0.933333</td>\n",
              "      <td>0.937500</td>\n",
              "    </tr>\n",
              "  </tbody>\n",
              "</table>\n",
              "</div>"
            ],
            "text/plain": [
              "                        Model  Accuracy  Precision  Recall  F1 Score   ROC AUC\n",
              "0      DecisionTreeClassifier  0.907692   0.812500  0.8125  0.812500  0.875638\n",
              "1      RandomForestClassifier  0.953846   1.000000  0.8125  0.896552  0.906250\n",
              "2  GradientBoostingClassifier  0.923077   0.866667  0.8125  0.838710  0.885842\n",
              "3               XGBClassifier  0.969231   1.000000  0.8750  0.933333  0.937500"
            ]
          },
          "execution_count": 118,
          "metadata": {},
          "output_type": "execute_result"
        }
      ],
      "source": [
        "import pandas as pd\n",
        "from sklearn.model_selection import train_test_split\n",
        "from sklearn.metrics import accuracy_score, precision_score, recall_score, f1_score, roc_auc_score\n",
        "from sklearn.tree import DecisionTreeClassifier\n",
        "from sklearn.ensemble import RandomForestClassifier, GradientBoostingClassifier\n",
        "from xgboost import XGBClassifier  # Import XGBoost classifier\n",
        "\n",
        "# Split the sampled data into training and testing sets with a test size of 30%\n",
        "X_train, X_test, y_train, y_test = train_test_split(X, y, test_size=0.2, random_state=42, stratify=y)\n",
        "\n",
        "# Define a function to evaluate a model and return a dictionary\n",
        "def evaluate_model(model, X_test, y_test):\n",
        "    # Calculate predictions\n",
        "    y_pred = model.predict(X_test)\n",
        "\n",
        "    # Compute metrics\n",
        "    accuracy = accuracy_score(y_test, y_pred)\n",
        "    precision = precision_score(y_test, y_pred)\n",
        "    recall = recall_score(y_test, y_pred)\n",
        "    f1 = f1_score(y_test, y_pred)\n",
        "    roc_auc = roc_auc_score(y_test, y_pred)\n",
        "\n",
        "    # Return metrics as a dictionary\n",
        "    return {\n",
        "        'Model': type(model).__name__,\n",
        "        'Accuracy': accuracy,\n",
        "        'Precision': precision,\n",
        "        'Recall': recall,\n",
        "        'F1 Score': f1,\n",
        "        'ROC AUC': roc_auc\n",
        "    }\n",
        "\n",
        "# Define models without Support Vector Machine (SVM)\n",
        "models = {\n",
        "    \"Decision Tree\": DecisionTreeClassifier(),\n",
        "    \"Random Forest\": RandomForestClassifier(),\n",
        "    \"Gradient Boosting\": GradientBoostingClassifier(),\n",
        "    \"XGBoost\": XGBClassifier()  # Added XGBoost to the comparison\n",
        "}\n",
        "\n",
        "# List to store evaluation results\n",
        "results = []\n",
        "\n",
        "# Model Training and Evaluation\n",
        "for model_name, model in models.items():\n",
        "    print(model_name + \":\")\n",
        "\n",
        "    model.fit(X_train, y_train)  # Assuming X_train, y_train are defined\n",
        "    metrics = evaluate_model(model, X_test, y_test)  # Assuming X_test, y_test are defined\n",
        "    results.append(metrics)\n",
        "\n",
        "# Create a DataFrame from the results\n",
        "df_results = pd.DataFrame(results)\n",
        "\n",
        "# Display the DataFrame\n",
        "df_results"
      ]
    },
    {
      "cell_type": "markdown",
      "metadata": {},
      "source": [
        "### OVER SAMPLING(SMOTE) "
      ]
    },
    {
      "cell_type": "code",
      "execution_count": 119,
      "metadata": {},
      "outputs": [],
      "source": [
        "x = data.drop('fraud' , axis=1 )\n",
        "y = data['fraud']"
      ]
    },
    {
      "cell_type": "code",
      "execution_count": 120,
      "metadata": {},
      "outputs": [
        {
          "data": {
            "text/plain": [
              "(324, 53)"
            ]
          },
          "execution_count": 120,
          "metadata": {},
          "output_type": "execute_result"
        }
      ],
      "source": [
        "x.shape"
      ]
    },
    {
      "cell_type": "code",
      "execution_count": 121,
      "metadata": {},
      "outputs": [
        {
          "data": {
            "text/plain": [
              "(324,)"
            ]
          },
          "execution_count": 121,
          "metadata": {},
          "output_type": "execute_result"
        }
      ],
      "source": [
        "y.shape"
      ]
    },
    {
      "cell_type": "code",
      "execution_count": 123,
      "metadata": {},
      "outputs": [
        {
          "name": "stdout",
          "output_type": "stream",
          "text": [
            "fraud\n",
            "1    246\n",
            "0    246\n",
            "Name: count, dtype: int64\n"
          ]
        }
      ],
      "source": [
        "from imblearn.over_sampling import SMOTE\n",
        "\n",
        "# Using SMOTE to oversample the minority class\n",
        "X_res, y_res = SMOTE().fit_resample(X, y)\n",
        "\n",
        "# Print the count of each class after oversampling\n",
        "print(y_res.value_counts())"
      ]
    },
    {
      "cell_type": "code",
      "execution_count": 124,
      "metadata": {},
      "outputs": [
        {
          "name": "stdout",
          "output_type": "stream",
          "text": [
            "Decision Tree:\n",
            "Random Forest:\n",
            "Gradient Boosting:\n",
            "XGBoost:\n"
          ]
        },
        {
          "data": {
            "text/html": [
              "<div>\n",
              "<style scoped>\n",
              "    .dataframe tbody tr th:only-of-type {\n",
              "        vertical-align: middle;\n",
              "    }\n",
              "\n",
              "    .dataframe tbody tr th {\n",
              "        vertical-align: top;\n",
              "    }\n",
              "\n",
              "    .dataframe thead th {\n",
              "        text-align: right;\n",
              "    }\n",
              "</style>\n",
              "<table border=\"1\" class=\"dataframe\">\n",
              "  <thead>\n",
              "    <tr style=\"text-align: right;\">\n",
              "      <th></th>\n",
              "      <th>Model</th>\n",
              "      <th>Accuracy</th>\n",
              "      <th>Precision</th>\n",
              "      <th>Recall</th>\n",
              "      <th>F1 Score</th>\n",
              "      <th>ROC AUC</th>\n",
              "    </tr>\n",
              "  </thead>\n",
              "  <tbody>\n",
              "    <tr>\n",
              "      <th>0</th>\n",
              "      <td>DecisionTreeClassifier</td>\n",
              "      <td>0.907692</td>\n",
              "      <td>0.812500</td>\n",
              "      <td>0.8125</td>\n",
              "      <td>0.812500</td>\n",
              "      <td>0.875638</td>\n",
              "    </tr>\n",
              "    <tr>\n",
              "      <th>1</th>\n",
              "      <td>RandomForestClassifier</td>\n",
              "      <td>0.969231</td>\n",
              "      <td>1.000000</td>\n",
              "      <td>0.8750</td>\n",
              "      <td>0.933333</td>\n",
              "      <td>0.937500</td>\n",
              "    </tr>\n",
              "    <tr>\n",
              "      <th>2</th>\n",
              "      <td>GradientBoostingClassifier</td>\n",
              "      <td>0.938462</td>\n",
              "      <td>0.928571</td>\n",
              "      <td>0.8125</td>\n",
              "      <td>0.866667</td>\n",
              "      <td>0.896046</td>\n",
              "    </tr>\n",
              "    <tr>\n",
              "      <th>3</th>\n",
              "      <td>XGBClassifier</td>\n",
              "      <td>0.969231</td>\n",
              "      <td>1.000000</td>\n",
              "      <td>0.8750</td>\n",
              "      <td>0.933333</td>\n",
              "      <td>0.937500</td>\n",
              "    </tr>\n",
              "  </tbody>\n",
              "</table>\n",
              "</div>"
            ],
            "text/plain": [
              "                        Model  Accuracy  Precision  Recall  F1 Score   ROC AUC\n",
              "0      DecisionTreeClassifier  0.907692   0.812500  0.8125  0.812500  0.875638\n",
              "1      RandomForestClassifier  0.969231   1.000000  0.8750  0.933333  0.937500\n",
              "2  GradientBoostingClassifier  0.938462   0.928571  0.8125  0.866667  0.896046\n",
              "3               XGBClassifier  0.969231   1.000000  0.8750  0.933333  0.937500"
            ]
          },
          "execution_count": 124,
          "metadata": {},
          "output_type": "execute_result"
        }
      ],
      "source": [
        "import pandas as pd\n",
        "from sklearn.model_selection import train_test_split\n",
        "from sklearn.metrics import accuracy_score, precision_score, recall_score, f1_score, roc_auc_score\n",
        "from sklearn.tree import DecisionTreeClassifier\n",
        "from sklearn.ensemble import RandomForestClassifier, GradientBoostingClassifier\n",
        "from xgboost import XGBClassifier  # Import XGBoost classifier\n",
        "\n",
        "# Split the sampled data into training and testing sets with a test size of 30%\n",
        "X_train, X_test, y_train, y_test = train_test_split(X, y, test_size=0.2, random_state=42, stratify=y)\n",
        "\n",
        "# Define a function to evaluate a model and return a dictionary\n",
        "def evaluate_model(model, X_test, y_test):\n",
        "    # Calculate predictions\n",
        "    y_pred = model.predict(X_test)\n",
        "\n",
        "    # Compute metrics\n",
        "    accuracy = accuracy_score(y_test, y_pred)\n",
        "    precision = precision_score(y_test, y_pred)\n",
        "    recall = recall_score(y_test, y_pred)\n",
        "    f1 = f1_score(y_test, y_pred)\n",
        "    roc_auc = roc_auc_score(y_test, y_pred)\n",
        "\n",
        "    # Return metrics as a dictionary\n",
        "    return {\n",
        "        'Model': type(model).__name__,\n",
        "        'Accuracy': accuracy,\n",
        "        'Precision': precision,\n",
        "        'Recall': recall,\n",
        "        'F1 Score': f1,\n",
        "        'ROC AUC': roc_auc\n",
        "    }\n",
        "\n",
        "# Define models without Support Vector Machine (SVM)\n",
        "models = {\n",
        "    \"Decision Tree\": DecisionTreeClassifier(),\n",
        "    \"Random Forest\": RandomForestClassifier(),\n",
        "    \"Gradient Boosting\": GradientBoostingClassifier(),\n",
        "    \"XGBoost\": XGBClassifier()  # Added XGBoost to the comparison\n",
        "}\n",
        "\n",
        "# List to store evaluation results\n",
        "results = []\n",
        "\n",
        "# Model Training and Evaluation\n",
        "for model_name, model in models.items():\n",
        "    print(model_name + \":\")\n",
        "\n",
        "    model.fit(X_train, y_train)  # Assuming X_train, y_train are defined\n",
        "    metrics = evaluate_model(model, X_test, y_test)  # Assuming X_test, y_test are defined\n",
        "    results.append(metrics)\n",
        "\n",
        "# Create a DataFrame from the results\n",
        "df_results = pd.DataFrame(results)\n",
        "\n",
        "# Display the DataFrame\n",
        "df_results"
      ]
    },
    {
      "cell_type": "markdown",
      "metadata": {},
      "source": [
        "### XGBoost has highest F1 SCORE - 93%"
      ]
    },
    {
      "cell_type": "markdown",
      "metadata": {},
      "source": [
        "### Project Conclusion\n",
        "\n",
        "Throughout this project, we evaluated the performance of four distinct machine learning models for fraud detection in financial transactions: Decision Tree, Random Forest, Gradient Boosting, and XGBoost.\n",
        "\n",
        "After a comprehensive analysis, it is evident that the XGBoost model outperforms the other models in terms of accuracy, precision, recall, F1-score, and ROC AUC score. Despite the rigorous hyperparameter tuning performed on all models, XGBoost consistently demonstrated superior predictive capabilities, making it the most suitable choice for detecting fraudulent transactions in this context.\n",
        "\n",
        "By saving the trained XGBoost model as a pickle file, we ensure its accessibility and deployment for real-time fraud detection tasks. This model can serve as a valuable tool in financial institutions, enabling them to proactively identify and prevent fraudulent activities, thereby safeguarding both businesses and customers from potential financial losses.\n",
        "\n",
        "\n",
        "Recommendations to the business for fraud detection and prevention\n",
        "\t1.\tEnhance Transaction Monitoring: Implement real-time transaction monitoring systems to promptly identify and flag suspicious activities, leveraging insights from transaction types, amounts, and frequency patterns identified during exploratory data analysis.\n",
        "\t2.\tPlatform-specific Security Measures: Collaborate with platform providers such as ICICI, HDFC, and GooglePay to strengthen security measures, including multi-factor authentication, transaction verification, and fraud detection algorithms tailored to platform-specific vulnerabilities.\n",
        "\t3.\tMerchant Category Vigilance: Introduce targeted fraud detection measures for high-risk merchant categories like home delivery services, travel bookings, and utility payments, including enhanced transaction verification and risk-based authentication protocols.\n",
        "\t4.\tFocus on Moderate Transaction Values: Allocate resources to monitor transactions in the moderate value range of 250 to 750 units, where fraudulent activities are more prevalent, to improve detection rates and minimize losses.\n",
        "\t5.\tGeographic-based Risk Assessment: Develop regional risk profiles based on geographic patterns identified, focusing resources and fraud prevention initiatives in states such as Himachal Pradesh, Rajasthan, Meghalaya, and Bihar to mitigate localized fraud risks.\n",
        "\t6.\tOperating System Security: Collaborate with Android OS developers to address security vulnerabilities and enhance fraud prevention measures, ensuring robust security protocols for Android-based UPI applications and platforms.\n",
        "\t7.\tContinuous Monitoring and Adaptation: Establish mechanisms for continuous monitoring and adaptation of fraud detection strategies, leveraging machine learning algorithms and advanced analytics to detect evolving fraud patterns and tactics.\n",
        "\t8.\tRegular Security Audits: Conduct regular security audits and risk assessments to identify and address potential vulnerabilities, ensuring compliance with industry standards and regulations for secure UPI transactions.\n",
        "\t9.\tUser Awareness and Education: Educate users about common fraud schemes, phishing attacks, and security best practices to empower them to recognize and report suspicious activities, fostering a collaborative approach to fraud prevention.\n",
        "\t10.\tCollaboration and Information Sharing: Foster collaboration and information sharing among industry stakeholders, financial institutions, law enforcement agencies, and regulatory bodies to combat fraud collectively and effectively.\n",
        "\n",
        "By implementing these recommendations, businesses can strengthen their UPI fraud detection and prevention strategies, mitigate risks, safeguard customer assets, and uphold trust and integrity in digital payment ecosystems.\n"
      ]
    },
    {
      "cell_type": "code",
      "execution_count": null,
      "metadata": {},
      "outputs": [],
      "source": []
    }
  ],
  "metadata": {
    "colab": {
      "provenance": []
    },
    "kernelspec": {
      "display_name": "myenv",
      "language": "python",
      "name": "python3"
    },
    "language_info": {
      "codemirror_mode": {
        "name": "ipython",
        "version": 3
      },
      "file_extension": ".py",
      "mimetype": "text/x-python",
      "name": "python",
      "nbconvert_exporter": "python",
      "pygments_lexer": "ipython3",
      "version": "3.12.7"
    }
  },
  "nbformat": 4,
  "nbformat_minor": 0
}
